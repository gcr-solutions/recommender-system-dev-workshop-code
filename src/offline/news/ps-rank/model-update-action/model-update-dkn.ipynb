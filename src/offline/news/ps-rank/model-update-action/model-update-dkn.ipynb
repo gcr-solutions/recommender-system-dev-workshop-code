{
 "cells": [
  {
   "cell_type": "code",
   "execution_count": 1,
   "metadata": {},
   "outputs": [
    {
     "name": "stdout",
     "output_type": "stream",
     "text": [
      "download: s3://aws-gcr-rs-sol-demo-ap-southeast-1-522244679887/sample-data/system/action-data/action_val.csv to val/action_val.csv\n",
      "download: s3://aws-gcr-rs-sol-demo-ap-southeast-1-522244679887/sample-data/system/action-data/action_train.csv to train/action_train.csv\n"
     ]
    }
   ],
   "source": [
    "!mkdir train\n",
    "!mkdir val\n",
    "!aws s3 cp s3://aws-gcr-rs-sol-demo-ap-southeast-1-522244679887/sample-data/system/action-data/action_val.csv val/\n",
    "!aws s3 cp s3://aws-gcr-rs-sol-demo-ap-southeast-1-522244679887/sample-data/system/action-data/action_train.csv train/"
   ]
  },
  {
   "cell_type": "code",
   "execution_count": 2,
   "metadata": {},
   "outputs": [],
   "source": [
    "from __future__ import print_function\n",
    "import os\n",
    "import sys\n",
    "import math\n",
    "import pickle\n",
    "import boto3\n",
    "import os\n",
    "import numpy as np\n",
    "import pandas as pd\n",
    "# from tqdm import tqdm\n",
    "import time\n",
    "import argparse\n",
    "import logging\n",
    "import re\n",
    "# tqdm.pandas()\n",
    "# pandarallel.initialize(progress_bar=True)\n",
    "# bucket = os.environ.get(\"BUCKET_NAME\", \" \")\n",
    "# raw_data_folder = os.environ.get(\"RAW_DATA\", \" \")\n",
    "# logger = logging.getLogger()\n",
    "# logger.setLevel(logging.INFO)\n",
    "# tqdm_notebook().pandas()\n",
    "s3client = boto3.client('s3')"
   ]
  },
  {
   "cell_type": "code",
   "execution_count": 3,
   "metadata": {},
   "outputs": [
    {
     "name": "stdout",
     "output_type": "stream",
     "text": [
      "bucket=aws-gcr-rs-sol-demo-ap-southeast-1-522244679887\n",
      "prefix='sample-data'\n",
      "file preparation: download src key sample-data/model/rank/content/dkn_embedding_latest/dkn_entity_embedding.npy to dst key info/dkn_entity_embedding.npy\n",
      "file preparation: download src key sample-data/model/rank/content/dkn_embedding_latest/dkn_context_embedding.npy to dst key info/dkn_context_embedding.npy\n",
      "file preparation: download src key sample-data/model/rank/content/dkn_embedding_latest/dkn_word_embedding.npy to dst key info/dkn_word_embedding.npy\n"
     ]
    }
   ],
   "source": [
    "########################################\n",
    "# 从s3同步数据\n",
    "########################################\n",
    "\n",
    "\n",
    "def sync_s3(file_name_list, s3_folder, local_folder):\n",
    "    for f in file_name_list:\n",
    "        print(\"file preparation: download src key {} to dst key {}\".format(os.path.join(\n",
    "            s3_folder, f), os.path.join(local_folder, f)))\n",
    "        s3client.download_file(bucket, os.path.join(\n",
    "            s3_folder, f), os.path.join(local_folder, f))\n",
    "\n",
    "\n",
    "def write_to_s3(filename, bucket, key):\n",
    "    print(\"upload s3://{}/{}\".format(bucket, key))\n",
    "    with open(filename, 'rb') as f:  # Read in binary mode\n",
    "        # return s3client.upload_fileobj(f, bucket, key)\n",
    "        return s3client.put_object(\n",
    "            ACL='bucket-owner-full-control',\n",
    "            Bucket=bucket,\n",
    "            Key=key,\n",
    "            Body=f\n",
    "        )\n",
    "\n",
    "def write_str_to_s3(content, bucket, key):\n",
    "    print(\"write s3://{}/{}, content={}\".format(bucket, key, content))\n",
    "    s3client.put_object(Body=str(content).encode(\"utf8\"), Bucket=bucket, Key=key, ACL='bucket-owner-full-control')\n",
    "\n",
    "default_bucket = 'aws-gcr-rs-sol-demo-ap-southeast-1-522244679887'\n",
    "default_prefix = 'sample-data'\n",
    "parser = argparse.ArgumentParser()\n",
    "parser.add_argument('--bucket', type=str)\n",
    "parser.add_argument('--prefix', type=str)\n",
    "args, _ = parser.parse_known_args()\n",
    "bucket = args.bucket\n",
    "prefix = args.prefix\n",
    "\n",
    "print(\"bucket={}\".format(bucket))\n",
    "print(\"prefix='{}'\".format(prefix))\n",
    "\n",
    "out_s3_path = \"s3://{}/{}/feature/content/inverted-list\".format(bucket, prefix)\n",
    "\n",
    "local_folder = 'info'\n",
    "if not os.path.exists(local_folder):\n",
    "    os.makedirs(local_folder)\n",
    "# dkn模型文件下载\n",
    "\n",
    "file_name_list = ['dkn_entity_embedding.npy','dkn_context_embedding.npy','dkn_word_embedding.npy']\n",
    "\n",
    "s3_folder = '{}/model/rank/content/dkn_embedding_latest/'.format(prefix)\n",
    "\n",
    "sync_s3(file_name_list, s3_folder, local_folder)\n",
    "                \n",
    "!mv info/dkn_entity_embedding.npy train/entity_embeddings_TransE_128.npy\n",
    "!mv info/dkn_context_embedding.npy train/context_embeddings_TransE_128.npy\n",
    "!mv info/dkn_word_embedding.npy train/word_embeddings_300.npy"
   ]
  },
  {
   "cell_type": "code",
   "execution_count": 1,
   "metadata": {},
   "outputs": [
    {
     "name": "stdout",
     "output_type": "stream",
     "text": [
      "WARNING:tensorflow:From /home/ec2-user/anaconda3/envs/tensorflow_p36/lib/python3.6/site-packages/tensorflow_core/__init__.py:1473: The name tf.estimator.inputs is deprecated. Please use tf.compat.v1.estimator.inputs instead.\n",
      "\n",
      "check input params: \n",
      "['src/embed_dkn.py', '--learning_rate', '0.0001', '--loss_weight', '1.0', '--max_click_history', '16', '--num_epochs', '1', '--use_entity', 'True', '--use_context', '0', '--max_title_length', '16', '--entity_dim', '128', '--word_dim', '300', '--batch_size', '128', '--perform_shuffle', '1', '--data_dir', '/home/ec2-user/workplace/recommender-system-solution/src/offline/news/model-update-dkn', '--checkpointPath', '/home/ec2-user/workplace/recommender-system-solution/src/offline/news/model-update-dkn/temp/', '--servable_model_dir', '/home/ec2-user/workplace/recommender-system-solution/src/offline/news/model-update-dkn/model_complete/']\n",
      "task_type  train\n",
      "model_dir  \n",
      "checkpoint_dir  /home/ec2-user/workplace/recommender-system-solution/src/offline/news/model-update-dkn/temp/\n",
      "data_dir  /home/ec2-user/workplace/recommender-system-solution/src/offline/news/model-update-dkn\n",
      "dt_dir  20210422\n",
      "num_epochs  1\n",
      "batch_size  128\n",
      "loss_type  log_loss\n",
      "optimizer  Adam\n",
      "learning_rate  0.0001\n",
      "embed_l2  1e-05\n",
      "layer_l2  0.001\n",
      "shuffle  1\n",
      "use_context  True\n",
      "train dir is /home/ec2-user/workplace/recommender-system-solution/src/offline/news/model-update-dkn/train\n",
      "eval dir is /home/ec2-user/workplace/recommender-system-solution/src/offline/news/model-update-dkn/val\n",
      "tr_files: ['/home/ec2-user/workplace/recommender-system-solution/src/offline/news/model-update-dkn/train/action_train.csv']\n",
      "va_files: ['/home/ec2-user/workplace/recommender-system-solution/src/offline/news/model-update-dkn/val/action_val.csv']\n",
      "te_files: None\n",
      "sagemaker mode building ...\n",
      "INFO:tensorflow:Using config: {'_model_dir': '/home/ec2-user/workplace/recommender-system-solution/src/offline/news/model-update-dkn/temp/', '_tf_random_seed': None, '_save_summary_steps': 100, '_save_checkpoints_steps': None, '_save_checkpoints_secs': 600, '_session_config': gpu_options {\n",
      "  allow_growth: true\n",
      "}\n",
      ", '_keep_checkpoint_max': 5, '_keep_checkpoint_every_n_hours': 10000, '_log_step_count_steps': 100, '_train_distribute': None, '_device_fn': None, '_protocol': None, '_eval_distribute': None, '_experimental_distribute': None, '_experimental_max_worker_delay_secs': None, '_session_creation_timeout_secs': 7200, '_service': None, '_cluster_spec': <tensorflow.python.training.server_lib.ClusterSpec object at 0x7f950726dba8>, '_task_type': 'worker', '_task_id': 0, '_global_id_in_cluster': 0, '_master': '', '_evaluation_master': '', '_is_chief': True, '_num_ps_replicas': 0, '_num_worker_replicas': 1}\n",
      "I0423 07:52:34.468110 140279454385984 estimator.py:212] Using config: {'_model_dir': '/home/ec2-user/workplace/recommender-system-solution/src/offline/news/model-update-dkn/temp/', '_tf_random_seed': None, '_save_summary_steps': 100, '_save_checkpoints_steps': None, '_save_checkpoints_secs': 600, '_session_config': gpu_options {\n",
      "  allow_growth: true\n",
      "}\n",
      ", '_keep_checkpoint_max': 5, '_keep_checkpoint_every_n_hours': 10000, '_log_step_count_steps': 100, '_train_distribute': None, '_device_fn': None, '_protocol': None, '_eval_distribute': None, '_experimental_distribute': None, '_experimental_max_worker_delay_secs': None, '_session_creation_timeout_secs': 7200, '_service': None, '_cluster_spec': <tensorflow.python.training.server_lib.ClusterSpec object at 0x7f950726dba8>, '_task_type': 'worker', '_task_id': 0, '_global_id_in_cluster': 0, '_master': '', '_evaluation_master': '', '_is_chief': True, '_num_ps_replicas': 0, '_num_worker_replicas': 1}\n",
      "WARNING:tensorflow:From /home/ec2-user/anaconda3/envs/tensorflow_p36/lib/python3.6/site-packages/tensorflow_core/python/training/training_util.py:236: Variable.initialized_value (from tensorflow.python.ops.variables) is deprecated and will be removed in a future version.\n",
      "Instructions for updating:\n",
      "Use Variable.read_value. Variables in 2.X are initialized automatically both in eager and graph (inside tf.defun) contexts.\n",
      "W0423 07:52:34.474262 140279454385984 deprecation.py:323] From /home/ec2-user/anaconda3/envs/tensorflow_p36/lib/python3.6/site-packages/tensorflow_core/python/training/training_util.py:236: Variable.initialized_value (from tensorflow.python.ops.variables) is deprecated and will be removed in a future version.\n",
      "Instructions for updating:\n",
      "Use Variable.read_value. Variables in 2.X are initialized automatically both in eager and graph (inside tf.defun) contexts.\n",
      "I0423 07:52:34.807062 140279454385984 utils.py:141] NumExpr defaulting to 4 threads.\n",
      "INFO:tensorflow:Calling model_fn.\n",
      "I0423 07:52:36.451506 140279454385984 estimator.py:1148] Calling model_fn.\n",
      "!!!!!!!!!!verify input shape\n",
      "!!!!!!!!!!clicked words Tensor(\"embedding_lookup/Identity:0\", shape=(2048, 16, 300), dtype=float32, device=/device:CPU:0)\n",
      "!!!!!!!!!!clicked entities Tensor(\"embedding_lookup_1/Identity:0\", shape=(2048, 16, 128), dtype=float32, device=/device:CPU:0)\n",
      "!!!!!!!!!!news words Tensor(\"embedding_lookup_2/Identity:0\", shape=(128, 16, 300), dtype=float32, device=/device:CPU:0)\n",
      "!!!!!!!!!!news entities Tensor(\"embedding_lookup_3/Identity:0\", shape=(128, 16, 128), dtype=float32, device=/device:CPU:0)\n",
      "WARNING:tensorflow:\n",
      "The TensorFlow contrib module will not be included in TensorFlow 2.0.\n",
      "For more information, please see:\n",
      "  * https://github.com/tensorflow/community/blob/master/rfcs/20180907-contrib-sunset.md\n",
      "  * https://github.com/tensorflow/addons\n",
      "  * https://github.com/tensorflow/io (for I/O related ops)\n",
      "If you depend on functionality not listed there, please file an issue.\n",
      "\n",
      "W0423 07:52:36.454889 140279454385984 lazy_loader.py:50] \n",
      "The TensorFlow contrib module will not be included in TensorFlow 2.0.\n",
      "For more information, please see:\n",
      "  * https://github.com/tensorflow/community/blob/master/rfcs/20180907-contrib-sunset.md\n",
      "  * https://github.com/tensorflow/addons\n",
      "  * https://github.com/tensorflow/io (for I/O related ops)\n",
      "If you depend on functionality not listed there, please file an issue.\n",
      "\n",
      "WARNING:tensorflow:From /home/ec2-user/anaconda3/envs/tensorflow_p36/lib/python3.6/site-packages/tensorflow_core/python/ops/nn_impl.py:183: where (from tensorflow.python.ops.array_ops) is deprecated and will be removed in a future version.\n",
      "Instructions for updating:\n",
      "Use tf.where in 2.0, which has the same broadcast rule as np.where\n",
      "W0423 07:52:36.598761 140279454385984 deprecation.py:323] From /home/ec2-user/anaconda3/envs/tensorflow_p36/lib/python3.6/site-packages/tensorflow_core/python/ops/nn_impl.py:183: where (from tensorflow.python.ops.array_ops) is deprecated and will be removed in a future version.\n",
      "Instructions for updating:\n",
      "Use tf.where in 2.0, which has the same broadcast rule as np.where\n",
      "WARNING:tensorflow:From /home/ec2-user/anaconda3/envs/tensorflow_p36/lib/python3.6/site-packages/tensorflow_core/python/ops/metrics_impl.py:808: div (from tensorflow.python.ops.math_ops) is deprecated and will be removed in a future version.\n",
      "Instructions for updating:\n",
      "Deprecated in favor of operator or tf.math.divide.\n",
      "W0423 07:52:36.987504 140279454385984 deprecation.py:323] From /home/ec2-user/anaconda3/envs/tensorflow_p36/lib/python3.6/site-packages/tensorflow_core/python/ops/metrics_impl.py:808: div (from tensorflow.python.ops.math_ops) is deprecated and will be removed in a future version.\n",
      "Instructions for updating:\n",
      "Deprecated in favor of operator or tf.math.divide.\n",
      "WARNING:tensorflow:From src/embed_dkn.py:688: The name tf.train.AdamOptimizer is deprecated. Please use tf.compat.v1.train.AdamOptimizer instead.\n",
      "\n",
      "W0423 07:52:37.022553 140279454385984 module_wrapper.py:139] From src/embed_dkn.py:688: The name tf.train.AdamOptimizer is deprecated. Please use tf.compat.v1.train.AdamOptimizer instead.\n",
      "\n",
      "WARNING:tensorflow:From src/embed_dkn.py:689: The name tf.train.get_or_create_global_step is deprecated. Please use tf.compat.v1.train.get_or_create_global_step instead.\n",
      "\n",
      "W0423 07:52:37.022777 140279454385984 module_wrapper.py:139] From src/embed_dkn.py:689: The name tf.train.get_or_create_global_step is deprecated. Please use tf.compat.v1.train.get_or_create_global_step instead.\n",
      "\n",
      "INFO:tensorflow:Done calling model_fn.\n",
      "I0423 07:52:37.320593 140279454385984 estimator.py:1150] Done calling model_fn.\n",
      "INFO:tensorflow:Create CheckpointSaverHook.\n",
      "I0423 07:52:37.322019 140279454385984 basic_session_run_hooks.py:541] Create CheckpointSaverHook.\n"
     ]
    },
    {
     "name": "stdout",
     "output_type": "stream",
     "text": [
      "INFO:tensorflow:Graph was finalized.\n",
      "I0423 07:52:37.848539 140279454385984 monitored_session.py:240] Graph was finalized.\n",
      "INFO:tensorflow:Restoring parameters from /home/ec2-user/workplace/recommender-system-solution/src/offline/news/model-update-dkn/temp/model.ckpt-236\n",
      "I0423 07:52:37.941338 140279454385984 saver.py:1290] Restoring parameters from /home/ec2-user/workplace/recommender-system-solution/src/offline/news/model-update-dkn/temp/model.ckpt-236\n",
      "WARNING:tensorflow:From /home/ec2-user/anaconda3/envs/tensorflow_p36/lib/python3.6/site-packages/tensorflow_core/python/training/saver.py:1075: get_checkpoint_mtimes (from tensorflow.python.training.checkpoint_management) is deprecated and will be removed in a future version.\n",
      "Instructions for updating:\n",
      "Use standard file utilities to get mtimes.\n",
      "W0423 07:52:38.546088 140279454385984 deprecation.py:323] From /home/ec2-user/anaconda3/envs/tensorflow_p36/lib/python3.6/site-packages/tensorflow_core/python/training/saver.py:1075: get_checkpoint_mtimes (from tensorflow.python.training.checkpoint_management) is deprecated and will be removed in a future version.\n",
      "Instructions for updating:\n",
      "Use standard file utilities to get mtimes.\n",
      "INFO:tensorflow:Running local_init_op.\n",
      "I0423 07:52:38.668670 140279454385984 session_manager.py:500] Running local_init_op.\n",
      "INFO:tensorflow:Done running local_init_op.\n",
      "I0423 07:52:38.701961 140279454385984 session_manager.py:502] Done running local_init_op.\n",
      "INFO:tensorflow:Saving checkpoints for 236 into /home/ec2-user/workplace/recommender-system-solution/src/offline/news/model-update-dkn/temp/model.ckpt.\n",
      "I0423 07:52:43.165803 140279454385984 basic_session_run_hooks.py:606] Saving checkpoints for 236 into /home/ec2-user/workplace/recommender-system-solution/src/offline/news/model-update-dkn/temp/model.ckpt.\n",
      "INFO:tensorflow:loss = 0.6313745, step = 236\n",
      "I0423 07:52:45.117784 140279454385984 basic_session_run_hooks.py:262] loss = 0.6313745, step = 236\n",
      "INFO:tensorflow:global_step/sec: 12.5447\n",
      "I0423 07:52:53.088479 140279454385984 basic_session_run_hooks.py:692] global_step/sec: 12.5447\n",
      "INFO:tensorflow:loss = 0.59140885, step = 336 (7.972 sec)\n",
      "I0423 07:52:53.089442 140279454385984 basic_session_run_hooks.py:260] loss = 0.59140885, step = 336 (7.972 sec)\n",
      "INFO:tensorflow:Saving checkpoints for 354 into /home/ec2-user/workplace/recommender-system-solution/src/offline/news/model-update-dkn/temp/model.ckpt.\n",
      "I0423 07:52:54.391755 140279454385984 basic_session_run_hooks.py:606] Saving checkpoints for 354 into /home/ec2-user/workplace/recommender-system-solution/src/offline/news/model-update-dkn/temp/model.ckpt.\n",
      "INFO:tensorflow:Loss for final step: 0.5763237.\n",
      "I0423 07:52:54.618155 140279454385984 estimator.py:371] Loss for final step: 0.5763237.\n",
      "finish train, start eval\n",
      "INFO:tensorflow:Calling model_fn.\n",
      "I0423 07:52:54.946883 140279454385984 estimator.py:1148] Calling model_fn.\n",
      "!!!!!!!!!!verify input shape\n",
      "!!!!!!!!!!clicked words Tensor(\"embedding_lookup/Identity:0\", shape=(2048, 16, 300), dtype=float32, device=/device:CPU:0)\n",
      "!!!!!!!!!!clicked entities Tensor(\"embedding_lookup_1/Identity:0\", shape=(2048, 16, 128), dtype=float32, device=/device:CPU:0)\n",
      "!!!!!!!!!!news words Tensor(\"embedding_lookup_2/Identity:0\", shape=(128, 16, 300), dtype=float32, device=/device:CPU:0)\n",
      "!!!!!!!!!!news entities Tensor(\"embedding_lookup_3/Identity:0\", shape=(128, 16, 128), dtype=float32, device=/device:CPU:0)\n",
      "INFO:tensorflow:Done calling model_fn.\n",
      "I0423 07:52:55.507351 140279454385984 estimator.py:1150] Done calling model_fn.\n",
      "INFO:tensorflow:Starting evaluation at 2021-04-23T07:52:55Z\n",
      "I0423 07:52:55.526132 140279454385984 evaluation.py:255] Starting evaluation at 2021-04-23T07:52:55Z\n",
      "INFO:tensorflow:Graph was finalized.\n",
      "I0423 07:52:55.690565 140279454385984 monitored_session.py:240] Graph was finalized.\n",
      "INFO:tensorflow:Restoring parameters from /home/ec2-user/workplace/recommender-system-solution/src/offline/news/model-update-dkn/temp/model.ckpt-354\n",
      "I0423 07:52:55.696237 140279454385984 saver.py:1290] Restoring parameters from /home/ec2-user/workplace/recommender-system-solution/src/offline/news/model-update-dkn/temp/model.ckpt-354\n",
      "INFO:tensorflow:Running local_init_op.\n",
      "I0423 07:52:55.904495 140279454385984 session_manager.py:500] Running local_init_op.\n",
      "INFO:tensorflow:Done running local_init_op.\n",
      "I0423 07:52:55.937033 140279454385984 session_manager.py:502] Done running local_init_op.\n",
      "INFO:tensorflow:Finished evaluation at 2021-04-23-07:52:58\n",
      "I0423 07:52:58.153875 140279454385984 evaluation.py:275] Finished evaluation at 2021-04-23-07:52:58\n",
      "INFO:tensorflow:Saving dict for global step 354: auc = 0.57153946, global_step = 354, loss = 0.60307395\n",
      "I0423 07:52:58.154146 140279454385984 estimator.py:2049] Saving dict for global step 354: auc = 0.57153946, global_step = 354, loss = 0.60307395\n",
      "INFO:tensorflow:Saving 'checkpoint_path' summary for global step 354: /home/ec2-user/workplace/recommender-system-solution/src/offline/news/model-update-dkn/temp/model.ckpt-354\n",
      "I0423 07:52:58.438267 140279454385984 estimator.py:2109] Saving 'checkpoint_path' summary for global step 354: /home/ec2-user/workplace/recommender-system-solution/src/offline/news/model-update-dkn/temp/model.ckpt-354\n",
      "sagemaker mode epoch 1 test_auc is 0.5715\n",
      "WARNING:tensorflow:From src/embed_dkn.py:809: The name tf.placeholder is deprecated. Please use tf.compat.v1.placeholder instead.\n",
      "\n",
      "W0423 07:52:58.439141 140279454385984 module_wrapper.py:139] From src/embed_dkn.py:809: The name tf.placeholder is deprecated. Please use tf.compat.v1.placeholder instead.\n",
      "\n",
      "WARNING:tensorflow:From src/embed_dkn.py:823: Estimator.export_savedmodel (from tensorflow_estimator.python.estimator.estimator) is deprecated and will be removed in a future version.\n",
      "Instructions for updating:\n",
      "This function has been renamed, use `export_saved_model` instead.\n",
      "W0423 07:52:58.442432 140279454385984 deprecation.py:323] From src/embed_dkn.py:823: Estimator.export_savedmodel (from tensorflow_estimator.python.estimator.estimator) is deprecated and will be removed in a future version.\n",
      "Instructions for updating:\n",
      "This function has been renamed, use `export_saved_model` instead.\n",
      "INFO:tensorflow:Calling model_fn.\n",
      "I0423 07:52:58.450839 140279454385984 estimator.py:1148] Calling model_fn.\n",
      "!!!!!!!!!!verify input shape\n",
      "!!!!!!!!!!clicked words Tensor(\"click_words:0\", shape=(?, 16, 300), dtype=float32)\n",
      "!!!!!!!!!!clicked entities Tensor(\"click_entities:0\", shape=(?, 16, 128), dtype=float32)\n",
      "!!!!!!!!!!news words Tensor(\"news_words:0\", shape=(?, 16, 300), dtype=float32)\n",
      "!!!!!!!!!!news entities Tensor(\"news_entities:0\", shape=(?, 16, 128), dtype=float32)\n",
      "INFO:tensorflow:Done calling model_fn.\n",
      "I0423 07:52:58.593071 140279454385984 estimator.py:1150] Done calling model_fn.\n",
      "WARNING:tensorflow:From /home/ec2-user/anaconda3/envs/tensorflow_p36/lib/python3.6/site-packages/tensorflow_core/python/saved_model/signature_def_utils_impl.py:201: build_tensor_info (from tensorflow.python.saved_model.utils_impl) is deprecated and will be removed in a future version.\n",
      "Instructions for updating:\n",
      "This function will only be available through the v1 compatibility library as tf.compat.v1.saved_model.utils.build_tensor_info or tf.compat.v1.saved_model.build_tensor_info.\n",
      "W0423 07:52:58.593447 140279454385984 deprecation.py:323] From /home/ec2-user/anaconda3/envs/tensorflow_p36/lib/python3.6/site-packages/tensorflow_core/python/saved_model/signature_def_utils_impl.py:201: build_tensor_info (from tensorflow.python.saved_model.utils_impl) is deprecated and will be removed in a future version.\n",
      "Instructions for updating:\n",
      "This function will only be available through the v1 compatibility library as tf.compat.v1.saved_model.utils.build_tensor_info or tf.compat.v1.saved_model.build_tensor_info.\n",
      "INFO:tensorflow:Signatures INCLUDED in export for Classify: None\n",
      "I0423 07:52:58.593946 140279454385984 export_utils.py:170] Signatures INCLUDED in export for Classify: None\n",
      "INFO:tensorflow:Signatures INCLUDED in export for Regress: None\n",
      "I0423 07:52:58.594070 140279454385984 export_utils.py:170] Signatures INCLUDED in export for Regress: None\n",
      "INFO:tensorflow:Signatures INCLUDED in export for Predict: ['serving_default']\n",
      "I0423 07:52:58.594166 140279454385984 export_utils.py:170] Signatures INCLUDED in export for Predict: ['serving_default']\n",
      "INFO:tensorflow:Signatures INCLUDED in export for Train: None\n",
      "I0423 07:52:58.594252 140279454385984 export_utils.py:170] Signatures INCLUDED in export for Train: None\n",
      "INFO:tensorflow:Signatures INCLUDED in export for Eval: None\n",
      "I0423 07:52:58.594334 140279454385984 export_utils.py:170] Signatures INCLUDED in export for Eval: None\n",
      "INFO:tensorflow:Restoring parameters from /home/ec2-user/workplace/recommender-system-solution/src/offline/news/model-update-dkn/temp/model.ckpt-354\n",
      "I0423 07:52:58.627570 140279454385984 saver.py:1290] Restoring parameters from /home/ec2-user/workplace/recommender-system-solution/src/offline/news/model-update-dkn/temp/model.ckpt-354\n"
     ]
    },
    {
     "name": "stdout",
     "output_type": "stream",
     "text": [
      "INFO:tensorflow:Assets added to graph.\n",
      "I0423 07:52:58.661652 140279454385984 builder_impl.py:665] Assets added to graph.\n",
      "INFO:tensorflow:No assets to write.\n",
      "I0423 07:52:58.661796 140279454385984 builder_impl.py:460] No assets to write.\n",
      "INFO:tensorflow:SavedModel written to: /home/ec2-user/workplace/recommender-system-solution/src/offline/news/model-update-dkn/model_complete/temp-1619164378/saved_model.pb\n",
      "I0423 07:52:58.712502 140279454385984 builder_impl.py:425] SavedModel written to: /home/ec2-user/workplace/recommender-system-solution/src/offline/news/model-update-dkn/model_complete/temp-1619164378/saved_model.pb\n",
      "finish saving model!\n"
     ]
    }
   ],
   "source": [
    "!python src/embed_dkn.py --learning_rate 0.0001 --loss_weight 1.0 --max_click_history 16 --num_epochs 1 --use_entity True --use_context 0 --max_title_length 16 --entity_dim 128 --word_dim 300 --batch_size 128 --perform_shuffle 1 --data_dir /home/ec2-user/workplace/recommender-system-solution/src/offline/news/model-update-dkn --checkpointPath /home/ec2-user/workplace/recommender-system-solution/src/offline/news/model-update-dkn/temp/ --servable_model_dir /home/ec2-user/workplace/recommender-system-solution/src/offline/news/model-update-dkn/model_complete/ "
   ]
  },
  {
   "cell_type": "code",
   "execution_count": 16,
   "metadata": {},
   "outputs": [
    {
     "name": "stdout",
     "output_type": "stream",
     "text": [
      "INFO:tensorflow:Restoring parameters from /home/ec2-user/workplace/recommender-system-solution/src/offline/news/model-update-dkn/model_complete/1619163657/variables/variables\n"
     ]
    },
    {
     "name": "stderr",
     "output_type": "stream",
     "text": [
      "INFO:tensorflow:Restoring parameters from /home/ec2-user/workplace/recommender-system-solution/src/offline/news/model-update-dkn/model_complete/1619163657/variables/variables\n"
     ]
    }
   ],
   "source": [
    "import glob\n",
    "from tensorflow.contrib import predictor\n",
    "\n",
    "model_extract_dir = '/home/ec2-user/workplace/recommender-system-solution/src/offline/news/model-update-dkn/model_complete/1619163657'\n",
    "model_path = None\n",
    "for name in glob.glob(os.path.join(model_extract_dir, '**', 'saved_model.pb'), recursive=True):\n",
    "    logging.info(\"found model saved_model.pb in {} !\".format(name))\n",
    "    model_path = '/'.join(name.split('/')[0:-1])\n",
    "dkn_model = predictor.from_saved_model(model_path)"
   ]
  },
  {
   "cell_type": "code",
   "execution_count": 15,
   "metadata": {},
   "outputs": [
    {
     "name": "stdout",
     "output_type": "stream",
     "text": [
      "saved_model.pb\tvariables\r\n"
     ]
    }
   ],
   "source": []
  },
  {
   "cell_type": "code",
   "execution_count": 10,
   "metadata": {},
   "outputs": [
    {
     "name": "stdout",
     "output_type": "stream",
     "text": [
      "copy: s3://gcr-rs-ops-ap-southeast-1-522244679887/news-open/model/rank/content/dkn_embedding_latest/dkn_context_embedding.npy to s3://aws-gcr-rs-sol-demo-ap-southeast-1-522244679887/sample-data/model/rank/content/dkn_embedding_latest/dkn_context_embedding.npy\n",
      "copy: s3://gcr-rs-ops-ap-southeast-1-522244679887/news-open/model/rank/content/dkn_embedding_latest/dkn_entity_embedding.npy to s3://aws-gcr-rs-sol-demo-ap-southeast-1-522244679887/sample-data/model/rank/content/dkn_embedding_latest/dkn_entity_embedding.npy\n",
      "copy: s3://gcr-rs-ops-ap-southeast-1-522244679887/news-open/model/rank/content/dkn_embedding_latest/dkn_word_embedding.npy to s3://aws-gcr-rs-sol-demo-ap-southeast-1-522244679887/sample-data/model/rank/content/dkn_embedding_latest/dkn_word_embedding.npy\n",
      "copy: s3://gcr-rs-ops-ap-southeast-1-522244679887/news-open/model/rank/action/dkn/latest/model.tar.gz to s3://aws-gcr-rs-sol-demo-ap-southeast-1-522244679887/sample-data/model/rank/action/dkn/latest/model.tar.gz\n"
     ]
    }
   ],
   "source": [
    "# !aws s3 cp s3://gcr-rs-ops-ap-southeast-1-522244679887/news-open/model/rank/content/dkn_embedding_latest/dkn_context_embedding.npy s3://aws-gcr-rs-sol-demo-ap-southeast-1-522244679887/sample-data/model/rank/content/dkn_embedding_latest/dkn_context_embedding.npy --acl bucket-owner-full-control\n",
    "# !aws s3 cp s3://gcr-rs-ops-ap-southeast-1-522244679887/news-open/model/rank/content/dkn_embedding_latest/dkn_entity_embedding.npy s3://aws-gcr-rs-sol-demo-ap-southeast-1-522244679887/sample-data/model/rank/content/dkn_embedding_latest/dkn_entity_embedding.npy --acl bucket-owner-full-control\n",
    "# !aws s3 cp s3://gcr-rs-ops-ap-southeast-1-522244679887/news-open/model/rank/content/dkn_embedding_latest/dkn_word_embedding.npy s3://aws-gcr-rs-sol-demo-ap-southeast-1-522244679887/sample-data/model/rank/content/dkn_embedding_latest/dkn_word_embedding.npy --acl bucket-owner-full-control\n",
    "# !aws s3 cp s3://gcr-rs-ops-ap-southeast-1-522244679887/news-open/model/rank/action/dkn/latest/model.tar.gz s3://aws-gcr-rs-sol-demo-ap-southeast-1-522244679887/sample-data/model/rank/action/dkn/latest/model.tar.gz --acl bucket-owner-full-control"
   ]
  },
  {
   "cell_type": "code",
   "execution_count": 11,
   "metadata": {},
   "outputs": [
    {
     "name": "stdout",
     "output_type": "stream",
     "text": [
      "k 6552400705523548680 v 0.05671838\n",
      "k 6552341601450983944 v 0.05580449\n",
      "k 6552015749588713997 v 0.052325606\n",
      "k 6552459085898318343 v 0.05156085\n",
      "k 6551717707065065987 v 0.05155331\n",
      "k 6552288949518205448 v 0.051062495\n",
      "k 6552426608496476685 v 0.049799293\n",
      "k 6552386898592006670 v 0.049290717\n",
      "k 6552496722042421773 v 0.04928559\n",
      "k 6525341647792767502 v 0.04853931\n",
      "k 6552207083696030216 v 0.048426867\n",
      "k 6552428222233969165 v 0.048256338\n"
     ]
    }
   ],
   "source": [
    "# n = 0\n",
    "# for k, v in sort_id_score_dict.items():\n",
    "#     print(\"k {} v {}\".format(k,v))\n",
    "#     if n > 10:\n",
    "#         break\n",
    "#     n = n + 1"
   ]
  }
 ],
 "metadata": {
  "kernelspec": {
   "display_name": "Python [conda env:tensorflow_p36]",
   "language": "python",
   "name": "conda-env-tensorflow_p36-py"
  },
  "language_info": {
   "codemirror_mode": {
    "name": "ipython",
    "version": 3
   },
   "file_extension": ".py",
   "mimetype": "text/x-python",
   "name": "python",
   "nbconvert_exporter": "python",
   "pygments_lexer": "ipython3",
   "version": "3.6.10"
  }
 },
 "nbformat": 4,
 "nbformat_minor": 4
}
